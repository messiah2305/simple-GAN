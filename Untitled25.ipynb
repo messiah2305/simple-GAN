{
  "nbformat": 4,
  "nbformat_minor": 0,
  "metadata": {
    "colab": {
      "name": "Untitled25.ipynb",
      "provenance": [],
      "mount_file_id": "18G1nWV-D7M4IaFAxnY7OkZSrgGYBLQsP",
      "authorship_tag": "ABX9TyOVTfLs9vI2T2o12jwh0Vqe",
      "include_colab_link": true
    },
    "kernelspec": {
      "name": "python3",
      "display_name": "Python 3"
    },
    "language_info": {
      "name": "python"
    },
    "accelerator": "GPU"
  },
  "cells": [
    {
      "cell_type": "markdown",
      "metadata": {
        "id": "view-in-github",
        "colab_type": "text"
      },
      "source": [
        "<a href=\"https://colab.research.google.com/github/messiah2305/simple-GAN/blob/master/Untitled25.ipynb\" target=\"_parent\"><img src=\"https://colab.research.google.com/assets/colab-badge.svg\" alt=\"Open In Colab\"/></a>"
      ]
    },
    {
      "cell_type": "code",
      "source": [
        "%cd /content/drive/MyDrive"
      ],
      "metadata": {
        "colab": {
          "base_uri": "https://localhost:8080/"
        },
        "id": "GthWnvONOqDq",
        "outputId": "b2be68eb-9278-4064-fad6-94bc0e20ac1a"
      },
      "execution_count": null,
      "outputs": [
        {
          "output_type": "stream",
          "name": "stdout",
          "text": [
            "/content/drive/MyDrive\n"
          ]
        }
      ]
    },
    {
      "cell_type": "code",
      "execution_count": null,
      "metadata": {
        "colab": {
          "base_uri": "https://localhost:8080/"
        },
        "id": "PGxglPNfOGNP",
        "outputId": "7e3e0dda-ad6b-4493-ac74-dbce9ba6e47c"
      },
      "outputs": [
        {
          "output_type": "stream",
          "name": "stdout",
          "text": [
            "Cloning into 'simple-GAN'...\n",
            "remote: Enumerating objects: 25, done.\u001b[K\n",
            "remote: Total 25 (delta 0), reused 0 (delta 0), pack-reused 25\u001b[K\n",
            "Unpacking objects: 100% (25/25), done.\n"
          ]
        }
      ],
      "source": [
        "!git clone https://github.com/vamsi3/simple-GAN.git"
      ]
    },
    {
      "cell_type": "code",
      "source": [
        "%cd /content/drive/MyDrive/simple-GAN/src/PyTorch"
      ],
      "metadata": {
        "colab": {
          "base_uri": "https://localhost:8080/"
        },
        "id": "P2Ucy5_nOtZp",
        "outputId": "16220dd6-f310-404e-fc10-416f15f84aed"
      },
      "execution_count": 1,
      "outputs": [
        {
          "output_type": "stream",
          "name": "stdout",
          "text": [
            "/content/drive/MyDrive/simple-GAN/src/PyTorch\n"
          ]
        }
      ]
    },
    {
      "cell_type": "code",
      "source": [
        "!python gan-mnist-pytorch.py"
      ],
      "metadata": {
        "colab": {
          "base_uri": "https://localhost:8080/"
        },
        "id": "C_Ov0IBnPC8y",
        "outputId": "4d0b827f-80f7-4d1d-e4d7-5e80e48c38f9"
      },
      "execution_count": 54,
      "outputs": [
        {
          "output_type": "stream",
          "name": "stdout",
          "text": [
            "getitem\n",
            "getitem\n",
            "torch.Size([3, 256, 256])\n",
            "getitem\n",
            "getitem\n",
            "[Epoch    1/200] [Batch    0/1] ---> [D Loss: 0.693701] [G Loss: 0.667891]\n",
            "getitem\n",
            "getitem\n",
            "[Epoch    2/200] [Batch    0/1] ---> [D Loss: 0.365015] [G Loss: 0.657579]\n",
            "getitem\n",
            "getitem\n",
            "[Epoch    3/200] [Batch    0/1] ---> [D Loss: 0.743658] [G Loss: 0.661545]\n",
            "getitem\n",
            "getitem\n",
            "[Epoch    4/200] [Batch    0/1] ---> [D Loss: 0.384282] [G Loss: 0.623028]\n",
            "getitem\n",
            "getitem\n",
            "[Epoch    5/200] [Batch    0/1] ---> [D Loss: 0.395298] [G Loss: 0.604555]\n",
            "getitem\n",
            "getitem\n",
            "[Epoch    6/200] [Batch    0/1] ---> [D Loss: 0.399113] [G Loss: 0.598240]\n",
            "getitem\n",
            "getitem\n",
            "[Epoch    7/200] [Batch    0/1] ---> [D Loss: 0.393373] [G Loss: 0.607672]\n",
            "getitem\n",
            "getitem\n",
            "[Epoch    8/200] [Batch    0/1] ---> [D Loss: 0.378217] [G Loss: 0.633700]\n",
            "getitem\n",
            "getitem\n",
            "[Epoch    9/200] [Batch    0/1] ---> [D Loss: 0.331279] [G Loss: 0.724793]\n",
            "getitem\n",
            "getitem\n",
            "[Epoch   10/200] [Batch    0/1] ---> [D Loss: 0.307650] [G Loss: 0.777748]\n",
            "getitem\n",
            "getitem\n",
            "[Epoch   11/200] [Batch    0/1] ---> [D Loss: 2.787925] [G Loss: 0.894379]\n",
            "getitem\n",
            "getitem\n",
            "[Epoch   12/200] [Batch    0/1] ---> [D Loss: 0.449784] [G Loss: 0.522719]\n",
            "getitem\n",
            "getitem\n",
            "[Epoch   13/200] [Batch    0/1] ---> [D Loss: 0.563444] [G Loss: 0.394410]\n",
            "getitem\n",
            "getitem\n",
            "[Epoch   14/200] [Batch    0/1] ---> [D Loss: 0.664747] [G Loss: 0.309261]\n",
            "getitem\n",
            "getitem\n",
            "[Epoch   15/200] [Batch    0/1] ---> [D Loss: 0.763129] [G Loss: 0.250103]\n",
            "getitem\n",
            "getitem\n",
            "[Epoch   16/200] [Batch    0/1] ---> [D Loss: 0.978070] [G Loss: 0.160627]\n",
            "getitem\n",
            "getitem\n",
            "[Epoch   17/200] [Batch    0/1] ---> [D Loss: 0.867775] [G Loss: 0.195786]\n",
            "getitem\n",
            "getitem\n",
            "[Epoch   18/200] [Batch    0/1] ---> [D Loss: 0.850049] [G Loss: 0.204700]\n",
            "getitem\n",
            "getitem\n",
            "[Epoch   19/200] [Batch    0/1] ---> [D Loss: 0.845638] [G Loss: 0.207251]\n",
            "getitem\n",
            "getitem\n",
            "[Epoch   20/200] [Batch    0/1] ---> [D Loss: 0.797654] [G Loss: 0.227204]\n",
            "getitem\n",
            "getitem\n",
            "[Epoch   21/200] [Batch    0/1] ---> [D Loss: 0.739339] [G Loss: 0.258920]\n",
            "getitem\n",
            "getitem\n",
            "[Epoch   22/200] [Batch    0/1] ---> [D Loss: 0.809305] [G Loss: 0.227469]\n",
            "getitem\n",
            "getitem\n",
            "[Epoch   23/200] [Batch    0/1] ---> [D Loss: 0.607219] [G Loss: 0.354180]\n",
            "getitem\n",
            "getitem\n",
            "[Epoch   24/200] [Batch    0/1] ---> [D Loss: 0.497152] [G Loss: 0.462189]\n",
            "getitem\n",
            "getitem\n",
            "[Epoch   25/200] [Batch    0/1] ---> [D Loss: 0.407335] [G Loss: 0.604892]\n",
            "getitem\n",
            "getitem\n",
            "[Epoch   26/200] [Batch    0/1] ---> [D Loss: 0.529967] [G Loss: 0.765177]\n",
            "getitem\n",
            "getitem\n",
            "[Epoch   27/200] [Batch    0/1] ---> [D Loss: 0.637556] [G Loss: 0.329038]\n",
            "getitem\n",
            "getitem\n",
            "[Epoch   28/200] [Batch    0/1] ---> [D Loss: 0.867677] [G Loss: 0.194033]\n",
            "getitem\n",
            "getitem\n",
            "[Epoch   29/200] [Batch    0/1] ---> [D Loss: 0.945992] [G Loss: 0.166290]\n",
            "getitem\n",
            "getitem\n",
            "[Epoch   30/200] [Batch    0/1] ---> [D Loss: 0.769208] [G Loss: 0.242277]\n",
            "getitem\n",
            "getitem\n",
            "[Epoch   31/200] [Batch    0/1] ---> [D Loss: 0.743224] [G Loss: 0.256553]\n",
            "getitem\n",
            "getitem\n",
            "[Epoch   32/200] [Batch    0/1] ---> [D Loss: 0.557882] [G Loss: 0.397246]\n",
            "getitem\n",
            "getitem\n",
            "[Epoch   33/200] [Batch    0/1] ---> [D Loss: 0.464891] [G Loss: 0.504622]\n",
            "getitem\n",
            "getitem\n",
            "[Epoch   34/200] [Batch    0/1] ---> [D Loss: 0.613273] [G Loss: 0.665348]\n",
            "getitem\n",
            "getitem\n",
            "[Epoch   35/200] [Batch    0/1] ---> [D Loss: 0.760816] [G Loss: 0.247744]\n",
            "getitem\n",
            "getitem\n",
            "[Epoch   36/200] [Batch    0/1] ---> [D Loss: 0.995077] [G Loss: 0.147762]\n",
            "getitem\n",
            "getitem\n",
            "[Epoch   37/200] [Batch    0/1] ---> [D Loss: 0.876641] [G Loss: 0.192634]\n",
            "getitem\n",
            "getitem\n",
            "[Epoch   38/200] [Batch    0/1] ---> [D Loss: 0.829242] [G Loss: 0.211966]\n",
            "getitem\n",
            "getitem\n",
            "[Epoch   39/200] [Batch    0/1] ---> [D Loss: 0.653888] [G Loss: 0.316420]\n",
            "getitem\n",
            "getitem\n",
            "[Epoch   40/200] [Batch    0/1] ---> [D Loss: 0.478727] [G Loss: 0.504912]\n",
            "getitem\n",
            "getitem\n",
            "[Epoch   41/200] [Batch    0/1] ---> [D Loss: 0.360317] [G Loss: 0.668714]\n",
            "getitem\n",
            "getitem\n",
            "[Epoch   42/200] [Batch    0/1] ---> [D Loss: 2.734634] [G Loss: 0.880783]\n",
            "getitem\n",
            "getitem\n",
            "[Epoch   43/200] [Batch    0/1] ---> [D Loss: 1.244517] [G Loss: 0.088651]\n",
            "getitem\n",
            "getitem\n",
            "[Epoch   44/200] [Batch    0/1] ---> [D Loss: 1.746799] [G Loss: 0.031558]\n",
            "getitem\n",
            "getitem\n",
            "[Epoch   45/200] [Batch    0/1] ---> [D Loss: 1.364885] [G Loss: 0.068966]\n",
            "getitem\n",
            "getitem\n",
            "[Epoch   46/200] [Batch    0/1] ---> [D Loss: 1.239830] [G Loss: 0.088176]\n",
            "getitem\n",
            "getitem\n",
            "[Epoch   47/200] [Batch    0/1] ---> [D Loss: 1.117514] [G Loss: 0.114881]\n",
            "getitem\n",
            "getitem\n",
            "[Epoch   48/200] [Batch    0/1] ---> [D Loss: 0.871831] [G Loss: 0.193615]\n",
            "getitem\n",
            "getitem\n",
            "[Epoch   49/200] [Batch    0/1] ---> [D Loss: 0.715407] [G Loss: 0.274432]\n",
            "getitem\n",
            "getitem\n",
            "[Epoch   50/200] [Batch    0/1] ---> [D Loss: 0.588612] [G Loss: 0.370038]\n",
            "getitem\n",
            "getitem\n",
            "[Epoch   51/200] [Batch    0/1] ---> [D Loss: 0.370934] [G Loss: 0.646708]\n",
            "getitem\n",
            "getitem\n",
            "[Epoch   52/200] [Batch    0/1] ---> [D Loss: 1.871991] [G Loss: 1.059503]\n",
            "getitem\n",
            "getitem\n",
            "[Epoch   53/200] [Batch    0/1] ---> [D Loss: 0.964851] [G Loss: 0.157072]\n",
            "getitem\n",
            "getitem\n",
            "[Epoch   54/200] [Batch    0/1] ---> [D Loss: 1.280582] [G Loss: 0.080462]\n",
            "getitem\n",
            "getitem\n",
            "[Epoch   55/200] [Batch    0/1] ---> [D Loss: 1.388874] [G Loss: 0.065273]\n",
            "getitem\n",
            "getitem\n",
            "[Epoch   56/200] [Batch    0/1] ---> [D Loss: 1.323799] [G Loss: 0.073883]\n",
            "getitem\n",
            "getitem\n",
            "[Epoch   57/200] [Batch    0/1] ---> [D Loss: 1.019849] [G Loss: 0.140138]\n",
            "getitem\n",
            "getitem\n",
            "[Epoch   58/200] [Batch    0/1] ---> [D Loss: 0.768482] [G Loss: 0.244031]\n",
            "getitem\n",
            "getitem\n",
            "[Epoch   59/200] [Batch    0/1] ---> [D Loss: 0.431276] [G Loss: 0.555406]\n",
            "getitem\n",
            "getitem\n",
            "[Epoch   60/200] [Batch    0/1] ---> [D Loss: 0.233329] [G Loss: 0.987826]\n",
            "getitem\n",
            "getitem\n",
            "[Epoch   61/200] [Batch    0/1] ---> [D Loss: 4.298899] [G Loss: 1.531411]\n",
            "getitem\n",
            "getitem\n",
            "[Epoch   62/200] [Batch    0/1] ---> [D Loss: 0.919292] [G Loss: 0.174678]\n",
            "Traceback (most recent call last):\n",
            "  File \"/usr/local/lib/python3.7/dist-packages/PIL/ImageFile.py\", line 496, in _save\n",
            "    fh = fp.fileno()\n",
            "AttributeError: '_idat' object has no attribute 'fileno'\n",
            "\n",
            "During handling of the above exception, another exception occurred:\n",
            "\n",
            "Traceback (most recent call last):\n",
            "  File \"gan-mnist-pytorch.py\", line 184, in <module>\n",
            "    save_image(generated_images.data[:25], image_filename, nrow=5, normalize=True)\n",
            "  File \"/usr/local/lib/python3.7/dist-packages/torch/autograd/grad_mode.py\", line 27, in decorate_context\n",
            "    return func(*args, **kwargs)\n",
            "  File \"/usr/local/lib/python3.7/dist-packages/torchvision/utils.py\", line 156, in save_image\n",
            "    im.save(fp, format=format)\n",
            "  File \"/usr/local/lib/python3.7/dist-packages/PIL/Image.py\", line 2134, in save\n",
            "    save_handler(self, fp, filename)\n",
            "  File \"/usr/local/lib/python3.7/dist-packages/PIL/PngImagePlugin.py\", line 1291, in _save\n",
            "    ImageFile._save(im, _idat(fp, chunk), [(\"zip\", (0, 0) + im.size, 0, rawmode)])\n",
            "  File \"/usr/local/lib/python3.7/dist-packages/PIL/ImageFile.py\", line 510, in _save\n",
            "    l, s, d = e.encode(bufsize)\n",
            "KeyboardInterrupt\n"
          ]
        }
      ]
    },
    {
      "cell_type": "code",
      "source": [
        ""
      ],
      "metadata": {
        "id": "BozVwCZOPFiv"
      },
      "execution_count": 22,
      "outputs": []
    }
  ]
}